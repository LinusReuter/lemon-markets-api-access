{
 "cells": [
  {
   "cell_type": "markdown",
   "source": [
    "# lemon_markets\r\n",
    "\r\n",
    "This notebook demonstrates some basic functionality of the package."
   ],
   "metadata": {}
  },
  {
   "cell_type": "code",
   "execution_count": 1,
   "source": [
    "!pip install --index-url https://test.pypi.org/simple/ lemon_markets\r\n",
    "\r\n",
    "from datetime import datetime\r\n",
    "\r\n",
    "from lemon_markets.account import Account\r\n",
    "from lemon_markets.instrument import Instruments\r\n",
    "from lemon_markets.market_data import OHLC\r\n",
    "from lemon_markets.helpers.time_helper import datetime_to_timestamp\r\n",
    "\r\n",
    "YOUR_CLIENT_ID = 'insert your client id here'\r\n",
    "YOUR_CLIENT_SECRET = 'insert your client secret'\r\n",
    "\r\n",
    "acc = Account(YOUR_CLIENT_ID, YOUR_CLIENT_SECRET, 'paper')\r\n"
   ],
   "outputs": [],
   "metadata": {}
  },
  {
   "cell_type": "markdown",
   "source": [
    "Import various parts of lemon_markets and create an account object."
   ],
   "metadata": {}
  },
  {
   "cell_type": "code",
   "execution_count": 2,
   "source": [
    "instruments = Instruments(acc)     # initialise instruments class\r\n",
    "tsla = instruments.list_instruments(type='stock', search='tesla')[0]\r\n",
    "\r\n",
    "print(f'Found instrument {tsla.name} with isin: {tsla.isin}')"
   ],
   "outputs": [
    {
     "output_type": "stream",
     "name": "stdout",
     "text": [
      "instruments/\n",
      "Found instrument TESLA INC. DL -,001 with isin: US88160R1014\n"
     ]
    }
   ],
   "metadata": {}
  },
  {
   "cell_type": "markdown",
   "source": [
    "Search for the stock 'tesla' and print some information on it."
   ],
   "metadata": {}
  },
  {
   "cell_type": "code",
   "execution_count": 3,
   "source": [
    "venue = tsla.trading_venues[0]\r\n",
    "\r\n",
    "print(f'Venue is currently {\"open\" if venue.is_open else \"closed\"}.')"
   ],
   "outputs": [
    {
     "output_type": "stream",
     "name": "stdout",
     "text": [
      "Venue is currently closed.\n"
     ]
    }
   ],
   "metadata": {}
  },
  {
   "cell_type": "markdown",
   "source": [
    "Get the first venue tesla is traded at and print whether it is currently open."
   ],
   "metadata": {}
  },
  {
   "cell_type": "code",
   "execution_count": 4,
   "source": [
    "ohlc = OHLC(acc)\r\n",
    "datetime_from = datetime(2020, 7, 31)\r\n",
    "datetime_to = datetime(2021, 8, 1)\r\n",
    "print(f'data from {datetime_to_timestamp(datetime_from)} to {datetime_to_timestamp(datetime_to)}')\r\n",
    "data = ohlc.get_data(tsla, venue, 'H1', ordering='+date', date_from=datetime_from, date_until=datetime_to, as_df=False)\r\n",
    "\r\n",
    "print(data)"
   ],
   "outputs": [
    {
     "output_type": "stream",
     "name": "stdout",
     "text": [
      "data from 1589666400.0 to 1589752800.0\n",
      "trading-venues/XMUN/instruments/US88160R1014/data/ohlc/H1/\n",
      "https://paper.lemon.markets/rest/v1/trading-venues/xmun/instruments/us88160r1014/data/ohlc/h1/?ordering=+date&date_from=1589752800.0&date_until=1589839200.0\n",
      "https://paper.lemon.markets/rest/v1/trading-venues/xmun/instruments/us88160r1014/data/ohlc/h1/?ordering=+date&date_from=1589839200.0&date_until=1589925600.0\n",
      "https://paper.lemon.markets/rest/v1/trading-venues/xmun/instruments/us88160r1014/data/ohlc/h1/?ordering=+date&date_from=1589925600.0&date_until=1590012000.0\n",
      "https://paper.lemon.markets/rest/v1/trading-venues/xmun/instruments/us88160r1014/data/ohlc/h1/?ordering=+date&date_from=1590012000.0&date_until=1590098400.0\n",
      "https://paper.lemon.markets/rest/v1/trading-venues/xmun/instruments/us88160r1014/data/ohlc/h1/?ordering=+date&date_from=1590098400.0&date_until=1590184800.0\n",
      "https://paper.lemon.markets/rest/v1/trading-venues/xmun/instruments/us88160r1014/data/ohlc/h1/?ordering=+date&date_from=1590184800.0&date_until=1590271200.0\n",
      "https://paper.lemon.markets/rest/v1/trading-venues/xmun/instruments/us88160r1014/data/ohlc/h1/?ordering=+date&date_from=1590271200.0&date_until=1590357600.0\n"
     ]
    },
    {
     "output_type": "error",
     "ename": "KeyboardInterrupt",
     "evalue": "",
     "traceback": [
      "\u001b[1;31m---------------------------------------------------------------------------\u001b[0m",
      "\u001b[1;31mKeyboardInterrupt\u001b[0m                         Traceback (most recent call last)",
      "\u001b[1;32m<ipython-input-4-eb6e091c44dc>\u001b[0m in \u001b[0;36m<module>\u001b[1;34m\u001b[0m\n\u001b[0;32m      3\u001b[0m \u001b[0mdatetime_to\u001b[0m \u001b[1;33m=\u001b[0m \u001b[0mdatetime\u001b[0m\u001b[1;33m(\u001b[0m\u001b[1;36m2020\u001b[0m\u001b[1;33m,\u001b[0m \u001b[1;36m5\u001b[0m\u001b[1;33m,\u001b[0m \u001b[1;36m18\u001b[0m\u001b[1;33m)\u001b[0m\u001b[1;33m\u001b[0m\u001b[1;33m\u001b[0m\u001b[0m\n\u001b[0;32m      4\u001b[0m \u001b[0mprint\u001b[0m\u001b[1;33m(\u001b[0m\u001b[1;34mf'data from {datetime_to_timestamp(datetime_from)} to {datetime_to_timestamp(datetime_to)}'\u001b[0m\u001b[1;33m)\u001b[0m\u001b[1;33m\u001b[0m\u001b[1;33m\u001b[0m\u001b[0m\n\u001b[1;32m----> 5\u001b[1;33m \u001b[0mdata\u001b[0m \u001b[1;33m=\u001b[0m \u001b[0mohlc\u001b[0m\u001b[1;33m.\u001b[0m\u001b[0mget_data\u001b[0m\u001b[1;33m(\u001b[0m\u001b[0mtsla\u001b[0m\u001b[1;33m,\u001b[0m \u001b[0mvenue\u001b[0m\u001b[1;33m,\u001b[0m \u001b[1;34m'H1'\u001b[0m\u001b[1;33m,\u001b[0m \u001b[0mordering\u001b[0m\u001b[1;33m=\u001b[0m\u001b[1;34m'+date'\u001b[0m\u001b[1;33m,\u001b[0m \u001b[0mdate_from\u001b[0m\u001b[1;33m=\u001b[0m\u001b[0mdatetime_from\u001b[0m\u001b[1;33m,\u001b[0m \u001b[0mdate_until\u001b[0m\u001b[1;33m=\u001b[0m\u001b[0mdatetime_to\u001b[0m\u001b[1;33m,\u001b[0m \u001b[0mas_df\u001b[0m\u001b[1;33m=\u001b[0m\u001b[1;32mFalse\u001b[0m\u001b[1;33m)\u001b[0m\u001b[1;33m\u001b[0m\u001b[1;33m\u001b[0m\u001b[0m\n\u001b[0m\u001b[0;32m      6\u001b[0m \u001b[1;33m\u001b[0m\u001b[0m\n\u001b[0;32m      7\u001b[0m \u001b[0mprint\u001b[0m\u001b[1;33m(\u001b[0m\u001b[0mdata\u001b[0m\u001b[1;33m)\u001b[0m\u001b[1;33m\u001b[0m\u001b[1;33m\u001b[0m\u001b[0m\n",
      "\u001b[1;32mc:\\users\\leonhard\\documents\\git\\lemon-markets-api-access\\lemon_markets\\market_data.py\u001b[0m in \u001b[0;36mget_data\u001b[1;34m(self, instrument, venue, x1, ordering, date_from, date_until, as_df)\u001b[0m\n\u001b[0;32m     69\u001b[0m         \u001b[1;32mif\u001b[0m \u001b[0mdate_until\u001b[0m \u001b[1;32mis\u001b[0m \u001b[1;32mnot\u001b[0m \u001b[1;32mNone\u001b[0m\u001b[1;33m:\u001b[0m\u001b[1;33m\u001b[0m\u001b[1;33m\u001b[0m\u001b[0m\n\u001b[0;32m     70\u001b[0m             \u001b[0mparams\u001b[0m\u001b[1;33m[\u001b[0m\u001b[1;34m'date_until'\u001b[0m\u001b[1;33m]\u001b[0m \u001b[1;33m=\u001b[0m \u001b[0mint\u001b[0m\u001b[1;33m(\u001b[0m\u001b[0mdatetime_to_timestamp\u001b[0m\u001b[1;33m(\u001b[0m\u001b[0mdate_until\u001b[0m\u001b[1;33m)\u001b[0m\u001b[1;33m)\u001b[0m\u001b[1;33m\u001b[0m\u001b[1;33m\u001b[0m\u001b[0m\n\u001b[1;32m---> 71\u001b[1;33m         \u001b[0mresults\u001b[0m \u001b[1;33m=\u001b[0m \u001b[0mself\u001b[0m\u001b[1;33m.\u001b[0m\u001b[0m_request_paged\u001b[0m\u001b[1;33m(\u001b[0m\u001b[0mendpoint\u001b[0m\u001b[1;33m=\u001b[0m\u001b[0mendpoint\u001b[0m\u001b[1;33m,\u001b[0m \u001b[0mparams\u001b[0m\u001b[1;33m=\u001b[0m\u001b[0mparams\u001b[0m\u001b[1;33m)\u001b[0m\u001b[1;33m\u001b[0m\u001b[1;33m\u001b[0m\u001b[0m\n\u001b[0m\u001b[0;32m     72\u001b[0m \u001b[1;33m\u001b[0m\u001b[0m\n\u001b[0;32m     73\u001b[0m         \u001b[1;32mif\u001b[0m \u001b[1;32mnot\u001b[0m \u001b[0mas_df\u001b[0m\u001b[1;33m:\u001b[0m\u001b[1;33m\u001b[0m\u001b[1;33m\u001b[0m\u001b[0m\n",
      "\u001b[1;32mc:\\users\\leonhard\\documents\\git\\lemon-markets-api-access\\lemon_markets\\helpers\\api_client.py\u001b[0m in \u001b[0;36m_request_paged\u001b[1;34m(self, endpoint, data_, params, inverse_ordering, date_from, date_until)\u001b[0m\n\u001b[0;32m     26\u001b[0m \u001b[1;33m\u001b[0m\u001b[0m\n\u001b[0;32m     27\u001b[0m             \u001b[1;32mwhile\u001b[0m \u001b[1;32mTrue\u001b[0m\u001b[1;33m:\u001b[0m\u001b[1;33m\u001b[0m\u001b[1;33m\u001b[0m\u001b[0m\n\u001b[1;32m---> 28\u001b[1;33m                 \u001b[0msleep\u001b[0m\u001b[1;33m(\u001b[0m\u001b[1;36m.5\u001b[0m\u001b[1;33m)\u001b[0m\u001b[1;33m\u001b[0m\u001b[1;33m\u001b[0m\u001b[0m\n\u001b[0m\u001b[0;32m     29\u001b[0m                 \u001b[0mprint\u001b[0m\u001b[1;33m(\u001b[0m\u001b[0mnext\u001b[0m \u001b[1;32mor\u001b[0m \u001b[0mendpoint\u001b[0m\u001b[1;33m)\u001b[0m\u001b[1;33m\u001b[0m\u001b[1;33m\u001b[0m\u001b[0m\n\u001b[0;32m     30\u001b[0m                 \u001b[1;32mif\u001b[0m \u001b[0mnext\u001b[0m \u001b[1;32mis\u001b[0m \u001b[1;32mnot\u001b[0m \u001b[1;32mNone\u001b[0m\u001b[1;33m:\u001b[0m\u001b[1;33m\u001b[0m\u001b[1;33m\u001b[0m\u001b[0m\n",
      "\u001b[1;31mKeyboardInterrupt\u001b[0m: "
     ]
    }
   ],
   "metadata": {}
  },
  {
   "cell_type": "markdown",
   "source": [
    "Get OHLC data on tesla in a 1 hour granularity, limited in time from 17.5.2020 to 18.5.2020. Returns a dataframe."
   ],
   "metadata": {}
  }
 ],
 "metadata": {
  "orig_nbformat": 4,
  "language_info": {
   "name": "python",
   "version": "3.8.5",
   "mimetype": "text/x-python",
   "codemirror_mode": {
    "name": "ipython",
    "version": 3
   },
   "pygments_lexer": "ipython3",
   "nbconvert_exporter": "python",
   "file_extension": ".py"
  },
  "kernelspec": {
   "name": "python3",
   "display_name": "Python 3.8.5 64-bit"
  },
  "interpreter": {
   "hash": "9a3c7712df90cbd5904b430443d3b3085c87cb91dbe5f3bcd86995d31c88d24e"
  }
 },
 "nbformat": 4,
 "nbformat_minor": 2
}
