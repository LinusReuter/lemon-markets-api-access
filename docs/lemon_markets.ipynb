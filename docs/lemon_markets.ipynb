{
 "cells": [
  {
   "cell_type": "markdown",
   "metadata": {},
   "source": [
    "# lemon_markets\n",
    "\n",
    "This notebook demonstrates some basic functionality of the package."
   ]
  },
  {
   "cell_type": "markdown",
   "metadata": {
    "collapsed": false
   },
   "source": [
    "Import various parts of lemon_markets and create an account object."
   ]
  },
  {
   "cell_type": "code",
   "execution_count": null,
   "metadata": {},
   "outputs": [],
   "source": [
    "!pip install --index-url https://test.pypi.org/simple/ lemon_markets\n",
    "\n",
    "from datetime import datetime\n",
    "\n",
    "from lemon_markets.account import Account\n",
    "from lemon_markets.instrument import Instruments\n",
    "from lemon_markets.market_data import OHLC\n",
    "from lemon_markets.helpers.time_helper import datetime_to_timestamp\n",
    "\n",
    "YOUR_CLIENT_ID = ''\n",
    "YOUR_CLIENT_SECRET = ''\n",
    "\n",
    "acc = Account(YOUR_CLIENT_ID, YOUR_CLIENT_SECRET, 'paper')"
   ]
  },
  {
   "cell_type": "markdown",
   "metadata": {
    "collapsed": false
   },
   "source": [
    "Search for the stock 'tesla' and print some information on it."
   ]
  },
  {
   "cell_type": "code",
   "execution_count": null,
   "metadata": {},
   "outputs": [],
   "source": [
    "instruments = Instruments(acc)     # initialize instruments class\n",
    "tsla = instruments.list_instruments(type='stock', search='tesla')[0]\n",
    "\n",
    "print(f'Found instrument {tsla.title} with isin: {tsla.isin}')"
   ]
  },
  {
   "cell_type": "markdown",
   "metadata": {
    "collapsed": false
   },
   "source": [
    "Get the first venue tesla is traded at and print whether it is currently open."
   ]
  },
  {
   "cell_type": "code",
   "execution_count": null,
   "metadata": {},
   "outputs": [],
   "source": [
    "venue = tsla.trading_venues[0]\n",
    "\n",
    "print(f'Venue is currently {\"open\" if venue.is_open else \"closed\"}.')"
   ]
  },
  {
   "cell_type": "markdown",
   "metadata": {
    "collapsed": false
   },
   "source": [
    "Get OHLC data on tesla in a 1 hour granularity, limited in time. Returns a dataframe."
   ]
  },
  {
   "cell_type": "code",
   "execution_count": null,
   "metadata": {
    "pycharm": {
     "name": "#%%\n"
    }
   },
   "outputs": [],
   "source": [
    "ohlc = OHLC(acc)\n",
    "datetime_from = datetime(2020, 7, 31)\n",
    "datetime_to = datetime(2021, 8, 1)\n",
    "print(f'data from {datetime_to_timestamp(datetime_from)} to {datetime_to_timestamp(datetime_to)}')\n",
    "data = ohlc.get_data(tsla, venue, 'h1', date_from=datetime_from, date_until=datetime_to, as_df=False)\n",
    "\n",
    "print(data)\n",
    "\n"
   ]
  }
 ],
 "metadata": {
  "interpreter": {
   "hash": "9a3c7712df90cbd5904b430443d3b3085c87cb91dbe5f3bcd86995d31c88d24e"
  },
  "kernelspec": {
   "display_name": "Python 3",
   "language": "python",
   "name": "python3"
  },
  "language_info": {
   "codemirror_mode": {
    "name": "ipython",
    "version": 3
   },
   "file_extension": ".py",
   "mimetype": "text/x-python",
   "name": "python",
   "nbconvert_exporter": "python",
   "pygments_lexer": "ipython3",
   "version": "3.8.5"
  },
  "orig_nbformat": 4
 },
 "nbformat": 4,
 "nbformat_minor": 2
}
