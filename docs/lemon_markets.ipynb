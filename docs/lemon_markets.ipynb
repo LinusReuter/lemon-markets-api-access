{
 "cells": [
  {
   "cell_type": "markdown",
   "source": [
    "# lemon_markets\n",
    "\n",
    "This notebook demonstrates some basic functionality of the package."
   ],
   "metadata": {}
  },
  {
   "cell_type": "markdown",
   "source": [
    "Import various parts of lemon_markets and create an account object."
   ],
   "metadata": {
    "collapsed": false
   }
  },
  {
   "cell_type": "code",
   "execution_count": null,
   "source": [
    "#!pip install --index-url https://test.pypi.org/simple/ lemon_markets\n",
    "\n",
    "from datetime import datetime\n",
    "\n",
    "from lemon_markets.account import Account\n",
    "from lemon_markets.instrument import Instruments\n",
    "from lemon_markets.market_data import OHLC\n",
    "from lemon_markets.helpers.time_helper import datetime_to_timestamp\n",
    "\n",
    "YOUR_CLIENT_ID = ''\n",
    "YOUR_CLIENT_SECRET = ''\n",
    "\n",
    "acc = Account(YOUR_CLIENT_ID, YOUR_CLIENT_SECRET, 'paper')"
   ],
   "outputs": [],
   "metadata": {}
  },
  {
   "cell_type": "markdown",
   "source": [
    "Search for the stock 'tesla' and print some information on it."
   ],
   "metadata": {
    "collapsed": false
   }
  },
  {
   "cell_type": "code",
   "execution_count": null,
   "source": [
    "instruments = Instruments(acc)     # initialise instruments class\n",
    "tsla = instruments.list_instruments(type='stock', search='tesla')[0]\n",
    "\n",
    "print(f'Found instrument {tsla.title} with isin: {tsla.isin}')"
   ],
   "outputs": [],
   "metadata": {}
  },
  {
   "cell_type": "markdown",
   "source": [
    "Get the first venue tesla is traded at and print whether it is currently open."
   ],
   "metadata": {
    "collapsed": false
   }
  },
  {
   "cell_type": "code",
   "execution_count": null,
   "source": [
    "venue = tsla.trading_venues[0]\n",
    "\n",
    "print(f'Venue is currently {\"open\" if venue.is_open else \"closed\"}.')"
   ],
   "outputs": [],
   "metadata": {}
  },
  {
   "cell_type": "markdown",
   "source": [
    "Get OHLC data on tesla in a 1 hour granularity, limited in time. Returns a dataframe."
   ],
   "metadata": {
    "collapsed": false
   }
  },
  {
   "cell_type": "code",
   "execution_count": null,
   "source": [
    "ohlc = OHLC(acc)\n",
    "datetime_from = datetime(2020, 7, 31)\n",
    "datetime_to = datetime(2021, 8, 1)\n",
    "print(f'data from {datetime_to_timestamp(datetime_from)} to {datetime_to_timestamp(datetime_to)}')\n",
    "data = ohlc.get_data(tsla, venue, 'h1', date_from=datetime_from, date_until=datetime_to, as_df=False)\n",
    "\n",
    "print(data)\n",
    "\n"
   ],
   "outputs": [],
   "metadata": {
    "pycharm": {
     "name": "#%%\n"
    }
   }
  }
 ],
 "metadata": {
  "orig_nbformat": 4,
  "language_info": {
   "name": "python",
   "version": "3.8.5",
   "mimetype": "text/x-python",
   "codemirror_mode": {
    "name": "ipython",
    "version": 3
   },
   "pygments_lexer": "ipython3",
   "nbconvert_exporter": "python",
   "file_extension": ".py"
  },
  "kernelspec": {
   "name": "python3",
   "language": "python",
   "display_name": "Python 3"
  },
  "interpreter": {
   "hash": "9a3c7712df90cbd5904b430443d3b3085c87cb91dbe5f3bcd86995d31c88d24e"
  }
 },
 "nbformat": 4,
 "nbformat_minor": 2
}